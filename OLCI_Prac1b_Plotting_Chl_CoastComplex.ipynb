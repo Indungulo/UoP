{
 "cells": [
  {
   "cell_type": "markdown",
   "metadata": {},
   "source": [
    "# EUMETSAT Sentinel-3 OLCI over Coastal Waters - Neural Net ML algorithm"
   ]
  },
  {
   "cell_type": "raw",
   "metadata": {},
   "source": [
    "Author: Lauren Biermann (UoP)\n",
    "Credit: This code was originally written for Module OS209.\n",
    "Date/s: 02/02/2024 (v1) and 28/09/2024 (v2)"
   ]
  },
  {
   "cell_type": "markdown",
   "metadata": {},
   "source": [
    "This code will introduce you to Python. You will lear how to import a netCDF file in to your workspace, conduct some simple operations, and plot (map) an image. In this case, we will be using a level-2 OLCI image, but the script can be easily adapted to plot any netCDF variable."
   ]
  },
  {
   "cell_type": "markdown",
   "metadata": {},
   "source": [
    "Sentinel-3's Ocean and Land Colour Instrument (OLCI) acquires spectral information on the colour of the oceans. These data can be used to monitor phytoplankton, the foundation of nearly all life in our seas. Ocean colour data are also useful for helping us to measure and track sediment and coloured dissolved organic matter (CDOM). \n",
    "\n",
    "Using 2 different algorithms to derive abundance of phytoplankton (through Chl-a concentrations), we will be assessing OLCI Level-2 Water Full Resolution data (300 m) collected over (1) open oceans and (2) complex coastal waters."
   ]
  },
  {
   "cell_type": "markdown",
   "metadata": {},
   "source": [
    "### 1(a) Setting up your Code: Import the Libraries you will need. "
   ]
  },
  {
   "cell_type": "markdown",
   "metadata": {},
   "source": [
    "Libraries are usually code modules that perform specific tasks or provide specific capability (e.g. statistical analysis or plotting routines). In this case we will import the xarray library for handling netCDF files, the numpy library which will help to conduct various operations on the data, and the matplotlib plotting library to generate some images."
   ]
  },
  {
   "cell_type": "code",
   "execution_count": null,
   "metadata": {},
   "outputs": [],
   "source": [
    "%matplotlib inline\n",
    "\n",
    "# Import the libraries you need with its alias (short 'nickname')\n",
    "# Data processing\n",
    "import xarray as xr\n",
    "import netCDF4 as nc\n",
    "import numpy as np\n",
    "import os\n",
    "\n",
    "# Data vis/ mapping\n",
    "import matplotlib.pyplot as plt\n",
    "from matplotlib import gridspec\n",
    "import matplotlib.colors as mcolors\n",
    "import cartopy.crs as ccrs\n",
    "import cartopy.feature as cfeature\n",
    "\n",
    "import warnings\n",
    "warnings.filterwarnings('ignore')"
   ]
  },
  {
   "cell_type": "markdown",
   "metadata": {},
   "source": [
    "### 1(b) Setting up your Code: Define any Functions you may call. "
   ]
  },
  {
   "cell_type": "markdown",
   "metadata": {},
   "source": [
    "Usually we also define functions at the top of a Python script. Functions are routines that can be called elsewhere in our script and perform a specific task. Typically we would use a function to take care of any process that we are going to perform more than once. The box below defines a function that will mask our data according to quality flags. We will call this function later on."
   ]
  },
  {
   "cell_type": "code",
   "execution_count": null,
   "metadata": {},
   "outputs": [],
   "source": [
    "def flag_data_fast(flags_we_want, flag_names, flag_values, flag_data, flag_type = 'WQSF'):\n",
    "    flag_bits = np.uint64()\n",
    "    if flag_type == 'SST':\n",
    "        flag_bits = np.uint8()\n",
    "    elif flag_type == 'WQSF_lsb':\n",
    "        flag_bits = np.uint32()\n",
    "    \n",
    "    for flag in flags_we_want:\n",
    "        try:\n",
    "            flag_bits = flag_bits | flag_values[flag_names.index(flag)]\n",
    "        except:\n",
    "            print(flag + \" not present\")\n",
    "    \n",
    "    return (flag_data & flag_bits) > 0"
   ]
  },
  {
   "cell_type": "markdown",
   "metadata": {},
   "source": [
    "### 2. Data Processing"
   ]
  },
  {
   "cell_type": "markdown",
   "metadata": {},
   "source": [
    "We only really start to run the script from this point. A key step is to correctly point Python to where you have saved your data."
   ]
  },
  {
   "cell_type": "code",
   "execution_count": null,
   "metadata": {},
   "outputs": [],
   "source": [
    "pwd # Confirming your current path"
   ]
  },
  {
   "cell_type": "markdown",
   "metadata": {},
   "source": [
    "#### Replace my path with your path (from pwd command above) with '/data' tagged at the end"
   ]
  },
  {
   "cell_type": "code",
   "execution_count": null,
   "metadata": {},
   "outputs": [],
   "source": [
    "# Path to your Sentinel-3 OLCI data\n",
    "inpath = os.path.join('/Users/lbiermann1/Dropbox/2425_ipython_ynb/S3_OLCI_L2/data')\n",
    "infile = 'S3B_OL_2_WFR____20241014T160151_20241014T160451_20241015T234749_0179_098_325_2520_MAR_O_NT_003.SEN3' "
   ]
  },
  {
   "cell_type": "code",
   "execution_count": null,
   "metadata": {},
   "outputs": [],
   "source": [
    "filename_oc = 'chl_oc4me.nc'\n",
    "filename_nn = 'chl_nn.nc'\n",
    "file_latlon = 'geo_coordinates.nc'"
   ]
  },
  {
   "cell_type": "markdown",
   "metadata": {},
   "source": [
    "Let's quickly make sure your path is fine, and the data are where you pointed the script to! "
   ]
  },
  {
   "cell_type": "code",
   "execution_count": null,
   "metadata": {},
   "outputs": [],
   "source": [
    "# check the length of your path name - some windows os' break at long paths\n",
    "if len(os.path.join(inpath, infile, \"chl_nn.nc\")) > 259 \\\n",
    "  or len(os.path.join(inpath,infile,\"chl_nn.nc\")) > 248:\n",
    "    print('Beware, your path name is quite long. Consider moving your data to a new directory')\n",
    "else:\n",
    "    print('Your path length name is fine')\n",
    "# check that you have pointed python to the right places\n",
    "if os.path.exists(os.path.join(inpath,infile,\"chl_nn.nc\")):\n",
    "    print('Found your required data file')\n",
    "else:\n",
    "    print('Data file missing. Please check your path and file name')"
   ]
  },
  {
   "cell_type": "markdown",
   "metadata": {},
   "source": [
    "#### Import your variables - CHL from OC4Me and NN algorithms, Latitude (lat), Longitude (lon)"
   ]
  },
  {
   "cell_type": "code",
   "execution_count": null,
   "metadata": {},
   "outputs": [],
   "source": [
    "# Latitude and Longitude from geo_coordinates\n",
    "lat_lon = xr.open_dataset(os.path.join(inpath, infile, file_latlon))\n",
    "lat = lat_lon.latitude\n",
    "lon = lat_lon.longitude\n",
    "\n",
    "# CHL concentrations calculated using the tradtional OC4Me Algorithm\n",
    "OLCI_oc = xr.open_dataset(os.path.join(inpath, infile, filename_oc))\n",
    "OC4me = OLCI_oc.CHL_OC4ME.data\n",
    "\n",
    "# CHL concentrations calculated using the Neural Net (ML) Algorithm\n",
    "OLCI_nn = xr.open_dataset(os.path.join(inpath, infile, filename_nn))\n",
    "CHLnn = OLCI_nn.CHL_NN.data\n",
    "\n",
    "# Close holders\n",
    "lat_lon.close()\n",
    "OLCI_oc.close()\n",
    "OLCI_nn.close()"
   ]
  },
  {
   "cell_type": "markdown",
   "metadata": {},
   "source": [
    "#### We can plot our imported CHL data to check it looks right, and also to subset."
   ]
  },
  {
   "cell_type": "code",
   "execution_count": null,
   "metadata": {},
   "outputs": [],
   "source": [
    "# Quick Check of your [CHL] Data\n",
    "f, axarr = plt.subplots(1,2) #subplot(r,c) provide the no. of rows and columns\n",
    "axarr[0].imshow(OC4me)\n",
    "axarr[1].imshow(CHLnn)"
   ]
  },
  {
   "cell_type": "code",
   "execution_count": null,
   "metadata": {},
   "outputs": [],
   "source": [
    "# Subset using Rows and Column Values from above Plots\n",
    "row1 = 0\n",
    "row2 = 2000\n",
    "col1 = 1600\n",
    "col2 = 4800"
   ]
  },
  {
   "cell_type": "code",
   "execution_count": null,
   "metadata": {},
   "outputs": [],
   "source": [
    "# Now Subset your Data to speed up Processing and Plotting\n",
    "LAT_ss = lat[row1:row2, col1:col2 ]\n",
    "LON_ss = lon[row1:row2, col1:col2 ]\n",
    "OC4_ss = OC4me[row1:row2,col1:col2]\n",
    "CHL_ss = CHLnn[row1:row2,col1:col2]"
   ]
  },
  {
   "cell_type": "code",
   "execution_count": null,
   "metadata": {},
   "outputs": [],
   "source": [
    "# Quick Check of your subset [CHL] Data\n",
    "f, axarr = plt.subplots(1,2) #subplot(r,c) provide the no. of rows and columns\n",
    "axarr[0].imshow(OC4_ss)\n",
    "axarr[1].imshow(CHL_ss)"
   ]
  },
  {
   "cell_type": "markdown",
   "metadata": {},
   "source": [
    "### 3. Data Visualisation"
   ]
  },
  {
   "cell_type": "markdown",
   "metadata": {},
   "source": [
    "#### There are several different ways to plot these kinds of data - this is one way :)"
   ]
  },
  {
   "cell_type": "code",
   "execution_count": null,
   "metadata": {},
   "outputs": [],
   "source": [
    "# Create a new figure for the plot, with a size of 16x16 inches and a high resolution (300 dpi)\n",
    "fig1 = plt.figure(figsize=(16, 16), dpi=300)\n",
    "\n",
    "# Use a grid layout to place two maps side by side (1 row, 2 columns)\n",
    "gs = gridspec.GridSpec(1, 2)\n",
    "\n",
    "# Define the projection for your data (PlateCarree is often used for geographic data)\n",
    "data_projection = ccrs.PlateCarree()\n",
    "\n",
    "# Set up a higher-resolution land feature to make the land look more detailed on the map\n",
    "land_poly = cfeature.NaturalEarthFeature('physical', 'land', '10m',\n",
    "                                         edgecolor='k', facecolor='black')\n",
    "\n",
    "# ----- Plot 1: CHL OC4ME Algorithm -----\n",
    "#########################################\n",
    "\n",
    "# Create the first subplot in the left panel (gs[0,0]) with a PlateCarree projection\n",
    "ax = plt.subplot(gs[0, 0], projection=ccrs.PlateCarree(central_longitude=0.0))\n",
    "\n",
    "# Plot your OC4ME data (LON_ss, LAT_ss, and OC4_ss are the longitude, latitude, and data arrays)\n",
    "# We use vmin and vmax to set the minimum and maximum values for the color scale (using viridis colormap)\n",
    "im = plt.pcolormesh(LON_ss, LAT_ss, OC4_ss, vmin=np.nanmin(OC4_ss), vmax=np.nanmax(OC4_ss),\n",
    "                    cmap=plt.cm.viridis, transform=data_projection)\n",
    "\n",
    "# Add coastlines and land features to make the map clearer\n",
    "ax.coastlines(resolution='10m', color='black', linewidth=1)\n",
    "ax.add_feature(land_poly)\n",
    "\n",
    "# Add gridlines to the map (with labels for latitude and longitude)\n",
    "g1 = ax.gridlines(draw_labels=True, linewidth=1, color='lightgray', alpha=0.5, linestyle='--')\n",
    "g1.top_labels = False  # Don't show labels on the top of the plot\n",
    "g1.right_labels = False  # Don't show labels on the right of the plot\n",
    "g1.xlabel_style = {'size': 11, 'color': 'gray'}\n",
    "g1.ylabel_style = {'size': 11, 'color': 'gray'}\n",
    "\n",
    "# Add a color bar at the bottom of the map to show what the colors mean (representing chlorophyll levels)\n",
    "cbar = plt.colorbar(im, orientation=\"horizontal\", fraction=0.1, pad=0.03)\n",
    "cbar.set_label('CHL_OC4ME mg.m$^{-3}$', fontsize=11)\n",
    "\n",
    "# ----- Plot 2: CHL Neural Network Algorithm -----\n",
    "##################################################\n",
    "\n",
    "# Create the second subplot in the right panel (gs[0,1]) with a PlateCarree projection\n",
    "ax = plt.subplot(gs[0, 1], projection=ccrs.PlateCarree(central_longitude=0.0))\n",
    "\n",
    "# Plot your CHL Neural Network data (LON_ss, LAT_ss, and CHL_ss are the longitude, latitude, and data arrays)\n",
    "# Again, we use vmin and vmax to define the color scale with the viridis colormap\n",
    "im = plt.pcolormesh(LON_ss, LAT_ss, CHL_ss, vmin=np.nanmin(CHL_ss), vmax=np.nanmax(CHL_ss),\n",
    "                    cmap=plt.cm.viridis, transform=data_projection)\n",
    "\n",
    "# Add coastlines and land features to the map\n",
    "ax.coastlines(resolution='10m', color='black', linewidth=1)\n",
    "ax.add_feature(land_poly)\n",
    "\n",
    "# Add gridlines to the map with labels\n",
    "g1 = ax.gridlines(draw_labels=True, linewidth=1, color='lightgray', alpha=0.5, linestyle='--')\n",
    "g1.top_labels = False  # Don't show labels on the top of the plot\n",
    "g1.right_labels = False  # Don't show labels on the right of the plot\n",
    "g1.xlabel_style = {'size': 11, 'color': 'gray'}\n",
    "g1.ylabel_style = {'size': 11, 'color': 'gray'}\n",
    "\n",
    "# Add a color bar at the bottom of the second map to represent chlorophyll levels from the Neural Network model\n",
    "cbar = plt.colorbar(im, orientation=\"horizontal\", fraction=0.1, pad=0.03)\n",
    "cbar.set_label('CHL_NN mg.m$^{-3}$', fontsize=11)\n",
    "\n",
    "# Display the plot\n",
    "plt.show()\n"
   ]
  },
  {
   "cell_type": "code",
   "execution_count": null,
   "metadata": {},
   "outputs": [],
   "source": [
    "# Uncomment the comment below to save your figure (1)\n",
    "# fig1.savefig('OLCI__all_flags_off.png', bbox_inches='tight')"
   ]
  },
  {
   "cell_type": "markdown",
   "metadata": {},
   "source": [
    "### 4. Call Function to Mask Flagged Data"
   ]
  },
  {
   "cell_type": "code",
   "execution_count": null,
   "metadata": {},
   "outputs": [],
   "source": [
    "# FLAG and MASK clouds\n",
    "######################\n",
    "inflag = 'wqsf.nc'\n",
    "# Choose and Add Flags to Mask Cloud\n",
    "flag_vars = ['CLOUD', 'CLOUD_AMBIGUOUS', 'CLOUD_MARGIN', 'HIGHGLINT']\n",
    "FLAG_file = xr.open_dataset(os.path.join(inpath, infile, inflag))\n",
    "\n",
    "# Flag names\n",
    "flag_name = FLAG_file['WQSF'].flag_meanings.split(' ')\n",
    "# flag bit values\n",
    "flag_vals = FLAG_file['WQSF'].flag_masks\n",
    "# flag field itself\n",
    "FLAGS = FLAG_file.variables['WQSF'].data\n",
    "FLAG_file.close()\n",
    "\n",
    "# Make flag mask using the function we defined at the start: \"flag_data_fast\" (cell2)\n",
    "flag_mask = flag_data_fast(flag_vars, flag_name, flag_vals, FLAGS, flag_type='WQSF')\n",
    "flag_mask = flag_mask.astype(float)\n",
    "flag_mask[flag_mask == 0.0] = np.nan\n",
    "\n",
    "# subset flag mask\n",
    "FLAG_subset1 = flag_mask[row1:row2, col1:col2]\n",
    "print(flag_name)"
   ]
  },
  {
   "cell_type": "code",
   "execution_count": null,
   "metadata": {},
   "outputs": [],
   "source": [
    "CHL_ss[np.isfinite(FLAG_subset1)] = np.nan\n",
    "OC4_ss[np.isfinite(FLAG_subset1)] = np.nan"
   ]
  },
  {
   "cell_type": "code",
   "execution_count": null,
   "metadata": {},
   "outputs": [],
   "source": [
    "fig2 = plt.figure(figsize=(18, 18), dpi=300)\n",
    "\n",
    "# Set data & output map projections:\n",
    "data_projection = ccrs.PlateCarree()\n",
    "output_projection=ccrs.PlateCarree()\n",
    "\n",
    "# Land resolution and polygon (you can use 50m for faster rendering)\n",
    "land_poly=cfeature.NaturalEarthFeature('physical', 'land', '10m', \n",
    "                                       edgecolor='k', facecolor='k')\n",
    "\n",
    "# Create axis with a specific projection to best match where you are in the world:\n",
    "ax = fig2.add_subplot(1, 1, 1, projection=ccrs.PlateCarree(central_longitude=0.0))\n",
    "\n",
    "# Plot data using pcolormesh\n",
    "im = ax.pcolormesh(LON_ss, LAT_ss, CHL_ss, cmap = plt.cm.viridis, transform = data_projection)\n",
    "\n",
    "# Set color limits for better visualization\n",
    "im.set_clim(-1.5, 1.5)   # these are adjustable\n",
    "\n",
    "# Add coastlines and land features\n",
    "ax.coastlines(resolution='50m', color='black', linewidth=1)\n",
    "ax.add_feature(land_poly)\n",
    "\n",
    "# Add gridlines and labels with more control over intervals\n",
    "g1 = ax.gridlines(draw_labels=True, linewidth=1, color='silver', alpha=0.9, linestyle='--')\n",
    "g1.top_labels = False\n",
    "g1.right_labels = False\n",
    "g1.xlocator = plt.MaxNLocator(6)  # Control the number of x ticks\n",
    "g1.ylocator = plt.MaxNLocator(6)  # Control the number of y ticks\n",
    "g1.xlabel_style = {'size': 11, 'color': 'gray'}\n",
    "g1.ylabel_style = {'size': 11, 'color': 'gray'}\n",
    "\n",
    "# Adding a colorbar, ensuring correct formatting and size\n",
    "cbar = plt.colorbar(im, ax=ax, orientation=\"horizontal\", fraction=0.1, pad=0.04)\n",
    "cbar.set_label('CHL_NN CHL mg.m$^{-3}$', fontsize=12)\n",
    "\n",
    "# Show the plot\n",
    "plt.show()"
   ]
  },
  {
   "cell_type": "code",
   "execution_count": null,
   "metadata": {},
   "outputs": [],
   "source": [
    "# Uncomment the comment below to save your figure (2)\n",
    "# fig2.savefig('OC_nn_flagged.png', bbox_inches='tight')"
   ]
  },
  {
   "cell_type": "code",
   "execution_count": null,
   "metadata": {},
   "outputs": [],
   "source": [
    "fig3 = plt.figure(figsize=(18, 18), dpi=300)\n",
    "\n",
    "# Set data & output map projections:\n",
    "data_projection = ccrs.PlateCarree()\n",
    "output_projection=ccrs.PlateCarree()\n",
    "\n",
    "# Land resolution and polygon (you can use 50m for faster rendering)\n",
    "land_poly=cfeature.NaturalEarthFeature('physical', 'land', '10m', \n",
    "                                       edgecolor='k', facecolor='k')\n",
    "\n",
    "# Create axis with a specific projection to best match where you are in the world:\n",
    "ax = fig3.add_subplot(1, 1, 1, projection=ccrs.PlateCarree(central_longitude=0.0))\n",
    "\n",
    "# Plot data using pcolormesh\n",
    "im = ax.pcolormesh(LON_ss, LAT_ss, OC4_ss, cmap = plt.cm.viridis, transform = data_projection)\n",
    "\n",
    "# Set color limits for better visualization\n",
    "im.set_clim(-1.5, 1.5)   # these are adjustable\n",
    "\n",
    "# Add coastlines and land features\n",
    "ax.coastlines(resolution='50m', color='black', linewidth=1)\n",
    "ax.add_feature(land_poly)\n",
    "\n",
    "# Add gridlines and labels with more control over intervals\n",
    "g1 = ax.gridlines(draw_labels=True, linewidth=1, color='silver', alpha=0.9, linestyle='--')\n",
    "g1.top_labels = False\n",
    "g1.right_labels = False\n",
    "g1.xlocator = plt.MaxNLocator(6)  # Control the number of x ticks\n",
    "g1.ylocator = plt.MaxNLocator(6)  # Control the number of y ticks\n",
    "g1.xlabel_style = {'size': 11, 'color': 'gray'}\n",
    "g1.ylabel_style = {'size': 11, 'color': 'gray'}\n",
    "\n",
    "# Adding a colorbar, ensuring correct formatting and size\n",
    "cbar = plt.colorbar(im, ax=ax, orientation=\"horizontal\", fraction=0.1, pad=0.04)\n",
    "cbar.set_label('OC4Me CHL mg.m$^{-3}$', fontsize=12)\n",
    "\n",
    "# Show the plot\n",
    "plt.show()"
   ]
  },
  {
   "cell_type": "code",
   "execution_count": null,
   "metadata": {},
   "outputs": [],
   "source": [
    "# Uncomment the comment below to save your figure (3)\n",
    "# fig3.savefig('OC4me_flagged.png', bbox_inches='tight')"
   ]
  },
  {
   "cell_type": "markdown",
   "metadata": {},
   "source": [
    "### BONUS STEP: widgets!"
   ]
  },
  {
   "cell_type": "markdown",
   "metadata": {},
   "source": [
    "#### Well done for making it this far. As a reward, here is some quick and simple code that will let you play with widgets :)"
   ]
  },
  {
   "cell_type": "code",
   "execution_count": null,
   "metadata": {},
   "outputs": [],
   "source": [
    "import ipywidgets as widgets\n",
    "from ipywidgets import interact\n",
    "\n",
    "# Plotting function\n",
    "def plot_chl(vmin, vmax):\n",
    "    plt.figure(figsize=(8,6))\n",
    "    plt.pcolormesh(LON_ss, LAT_ss, CHL_ss, cmap='viridis', vmin=vmin, vmax=vmax)\n",
    "    plt.colorbar(label='CHL_NN mg.m$^{-3}$')\n",
    "    plt.title('Flagged Chlorophyll - Neural Net Algorithm')\n",
    "    plt.show()\n",
    "\n",
    "# Create interactive plot with sliders for vmin and vmax\n",
    "interact(plot_chl, vmin=(-2, 0, 0.5), vmax=(0.5, 3, 0.5))  # (min, max, steps)"
   ]
  },
  {
   "cell_type": "markdown",
   "metadata": {},
   "source": [
    "#### Quick lesson on why you need to be careful of applying ALL the flags without consideration..."
   ]
  },
  {
   "cell_type": "code",
   "execution_count": null,
   "metadata": {},
   "outputs": [],
   "source": [
    "# FLAG and MASK everything else\n",
    "###############################\n",
    "flag_var2 = ['INVALID', 'LAND', 'CLOUD', 'TURBID_ATM', 'CLOUD_AMBIGUOUS', 'CLOUD_MARGIN', 'SNOW_ICE', \n",
    "             'INLAND_WATER', 'COASTLINE', 'TIDAL', 'COSMETIC', 'SUSPECT', 'HISOLZEN', 'SATURATED', \n",
    "             'MEGLINT', 'HIGHGLINT', 'WHITECAPS', 'ADJAC', 'AC_FAIL', 'OC4ME_FAIL', 'OCNN_FAIL', 'KDM_FAIL']\n",
    "# Flag names\n",
    "flag_name = FLAG_file['WQSF'].flag_meanings.split(' ')\n",
    "# flag bit values\n",
    "flag_vals = FLAG_file['WQSF'].flag_masks\n",
    "# flag field itself\n",
    "FLAGS = FLAG_file.variables['WQSF'].data\n",
    "FLAG_file.close()\n",
    "\n",
    "# Make flag mask using the function we defined at the start: \"flag_data_fast\" (cell2)\n",
    "flag_mask = flag_data_fast(flag_var2, flag_name, flag_vals, FLAGS, flag_type= 'WQSF')\n",
    "flag_mask = flag_mask.astype(float)\n",
    "flag_mask[flag_mask == 0.0] = np.nan\n",
    "\n",
    "# subset flag mask\n",
    "FLAG_subset2 = flag_mask[row1:row2, col1:col2]"
   ]
  },
  {
   "cell_type": "code",
   "execution_count": null,
   "metadata": {},
   "outputs": [],
   "source": [
    "CHL_ss[np.isfinite(FLAG_subset2)] = np.nan\n",
    "OC4_ss[np.isfinite(FLAG_subset2)] = np.nan"
   ]
  },
  {
   "cell_type": "code",
   "execution_count": null,
   "metadata": {},
   "outputs": [],
   "source": [
    "fig4= plt.figure(figsize=(16, 16), dpi=300)\n",
    "\n",
    "gs  = gridspec.GridSpec(1, 2)\n",
    "# set data projection and request output projection\n",
    "data_projection = ccrs.PlateCarree()\n",
    "output_projection=ccrs.PlateCarree()\n",
    "land_resolution = '10m'\n",
    "land_poly = cfeature.NaturalEarthFeature('physical', 'land', \"10m\",\n",
    "                                        edgecolor='k',\n",
    "                                        facecolor='black')\n",
    "# PLOT CHL OC4ME Algorithm\n",
    "##########################\n",
    "ax = plt.subplot(gs[0,0], projection = ccrs.PlateCarree(central_longitude= 0.0))\n",
    "# Plotting your variable with defined min - max values with viridis:\n",
    "im = plt.pcolormesh(LON_ss, LAT_ss, OC4_ss, vmin = -1.5, vmax = 1.5,\n",
    "                    cmap = plt.cm.viridis)\n",
    "\n",
    "ax.coastlines(resolution = land_resolution, color = 'black', linewidth = 1)\n",
    "ax.add_feature(land_poly)\n",
    "g1 = ax.gridlines(draw_labels = True, linewidth = 1, color = 'lightgray', alpha = 0.5, linestyle = '--')\n",
    "g1.xlabels_top  = False\n",
    "g1.ylabels_right= False\n",
    "g1.xlabel_style = {'size': 11, 'color': 'gray'}\n",
    "g1.ylabel_style = {'size': 11, 'color': 'gray'}\n",
    "# Adding a Colourbar\n",
    "cbar = plt.colorbar(orientation = \"horizontal\", fraction = 0.1, pad = 0.03) \n",
    "cbar.set_label('CHL_OC4ME mg.m$^{-3}$', fontsize = 11)\n",
    "\n",
    "# PLOT CHL Neural Net Algorithm \n",
    "################################\n",
    "ax = plt.subplot(gs[0,1], projection = ccrs.PlateCarree(central_longitude= 0.0))\n",
    "# Plotting your variable with defined min - max values with viridis:\n",
    "im = plt.pcolormesh(LON_ss, LAT_ss, CHL_ss, vmin = -1.5, vmax = 1.5,\n",
    "                    cmap = plt.cm.viridis)\n",
    "ax.coastlines(resolution = land_resolution, color = 'black', linewidth = 1)\n",
    "ax.add_feature(land_poly)\n",
    "g1 = ax.gridlines(draw_labels = True, linewidth = 1, color = 'lightgray', alpha = 0.5, linestyle = '--')\n",
    "g1.xlabels_top  = False\n",
    "g1.ylabels_right= False\n",
    "g1.xlabel_style = {'size': 11, 'color': 'gray'}\n",
    "g1.ylabel_style = {'size': 11, 'color': 'gray'}\n",
    "# Adding a Colourbar\n",
    "cbar = plt.colorbar(orientation = \"horizontal\", fraction = 0.1, pad = 0.03) \n",
    "cbar.set_label('CHL_NN mg.m$^{-3}$', fontsize = 11)\n",
    "\n",
    "plt.show()"
   ]
  },
  {
   "cell_type": "code",
   "execution_count": null,
   "metadata": {},
   "outputs": [],
   "source": [
    "# Uncomment the comment below to save your figure (4)\n",
    "# fig4.savefig('OC4me_bloom__extra_flags_on.png', bbox_inches='tight')"
   ]
  }
 ],
 "metadata": {
  "kernelspec": {
   "display_name": "Python 3 (ipykernel)",
   "language": "python",
   "name": "python3"
  },
  "language_info": {
   "codemirror_mode": {
    "name": "ipython",
    "version": 3
   },
   "file_extension": ".py",
   "mimetype": "text/x-python",
   "name": "python",
   "nbconvert_exporter": "python",
   "pygments_lexer": "ipython3",
   "version": "3.11.8"
  }
 },
 "nbformat": 4,
 "nbformat_minor": 4
}
