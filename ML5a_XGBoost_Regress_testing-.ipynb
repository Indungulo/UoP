{
 "cells": [
  {
   "cell_type": "raw",
   "id": "dca23171-0e41-41ca-a2d3-3def8cb2cd66",
   "metadata": {},
   "source": [
    "Authors: L. Biermann (UoP)\n",
    "Credits: This code was originally developed for the MaRS Modules.\n",
    "License: This code is offered as free-to-use in the public domain, with no warranty.\n",
    "Date_V2: 25/02/2025"
   ]
  },
  {
   "cell_type": "markdown",
   "id": "a0ccb9eb-2368-460a-9c90-cd738bbfc23c",
   "metadata": {},
   "source": [
    "<div class=\"alert alert-info\" role=\"alert\" \n",
    "     style=\"font-size: 1.6em; font-weight: bold; padding: 10px; margin: 10px 0; text-align: center;\">\n",
    "    \n",
    "    XGBoost model deployment -- Round 1\n",
    "<div>"
   ]
  },
  {
   "cell_type": "code",
   "execution_count": null,
   "id": "91ff73e0-8237-4087-81ba-8e4e3bb4e5c0",
   "metadata": {},
   "outputs": [],
   "source": [
    "# Data Wrangling\n",
    "import glob\n",
    "import pandas as pd\n",
    "import numpy as np\n",
    "\n",
    "# Machine Learn\n",
    "from sklearn.metrics import r2_score, mean_squared_error\n",
    "import xgboost as xgb\n",
    "import shap\n",
    "\n",
    "# Data Plotting\n",
    "import matplotlib.pyplot as plt\n",
    "import seaborn as sns\n",
    "import matplotlib.dates as mdates\n",
    "\n",
    "#ignorewarnings\n",
    "import warnings\n",
    "warnings.filterwarnings(\"ignore\")"
   ]
  },
  {
   "cell_type": "markdown",
   "id": "db5c7afd-8af2-44ea-9afe-5c2861b63ecc",
   "metadata": {},
   "source": [
    "<div class=\"alert alert-info\" role=\"alert\" \n",
    "     style=\"font-size: 1.8em; font-weight: bold; padding: 15px; margin: 10px 0; text-align: center; background-color: #d9edf7; border-color: #bce8f1; color: #31708f; border-radius: 8px;\">\n",
    "    Data Preprocessing\n",
    "</div>"
   ]
  },
  {
   "cell_type": "code",
   "execution_count": null,
   "id": "7208d2c5-ae11-46a6-8ccc-7cc16219b661",
   "metadata": {},
   "outputs": [],
   "source": [
    "# Data are imported in Dataframe format\n",
    "SSH = pd.read_csv(\"cmems_mod_glo_phy_zos_0.083deg_P1D-m.csv\", comment='#') # tells pandas to ignore lines starting with '#'\n",
    "SST = pd.read_csv(\"cmems_mod_glo_phy-sst_0.083deg_P1D-m.csv\", comment='#')\n",
    "SSS = pd.read_csv(\"cmems_mod_glo_phy-sss_0.083deg_P1D-m.csv\", comment='#')\n",
    "VEL = pd.read_csv(\"cmems_mod_glo_phy-vel_0.083deg_P1D-m.csv\", comment='#')\n",
    "MLD = pd.read_csv(\"cmems_mod_glo_phy_mld_0.083deg_P1D-m.csv\", comment='#')"
   ]
  },
  {
   "cell_type": "code",
   "execution_count": null,
   "id": "8287e1da-49ec-405f-bb5b-bf978f86117d",
   "metadata": {},
   "outputs": [],
   "source": [
    "# The UTC format that our dates (times) are currently in:\n",
    "SSH['dates'] = pd.to_datetime(SSH['time'], format='%Y-%m-%dT%H:%M:%S.%fZ', utc=True)\n",
    "\n",
    "# Step1: convert to a more friendly format, add 'dates' as new column \n",
    "SSH['dates'] = SSH['dates'].dt.strftime('%Y-%m-%d %H:%M')\n",
    "# Step2: Remove the times in this case as they contain no real information\n",
    "SSH['dates'] = pd.to_datetime(SSH['dates'])\n",
    "# Step3: Drop the now unnecessary 'time' column\n",
    "SSH = SSH.drop(columns=['time'])\n",
    "\n",
    "# Extract months+ years (integers)\n",
    "SSH['mo'] = SSH['dates'].dt.month\n",
    "SSH['yr'] = SSH['dates'].dt.year\n",
    "\n",
    "# Re-order columns so that 'dates' is first, followed by 'mo' (month), and then 'zos' (SSH values)\n",
    "SSH = SSH[['dates', 'zos']]\n",
    "\n",
    "# Combine vars in new df:\n",
    "new_df = pd.DataFrame({'Date':SSH['dates'], 'SSH':SSH['zos'], 'SST':SST['thetao'], \n",
    "                       'SSS':SSS['so'], 'Vuo':VEL['uo'], 'Vvo':VEL['vo'], 'MLD':MLD['mlotst']})\n",
    "print(new_df.head(3))"
   ]
  },
  {
   "cell_type": "code",
   "execution_count": null,
   "id": "9d4038f8-3270-488f-bc33-12135ae6a92f",
   "metadata": {},
   "outputs": [],
   "source": [
    "predictors = ['SSH', 'SSS', 'Vuo', 'Vvo', 'MLD'] # Predictor vars\n",
    "X_new = new_df[predictors].values     # Features\n",
    "y_new = new_df['SST'].values          # True SST values\n",
    "# Check reshaped data (n,n)(n,)\n",
    "print(X_new.shape, y_new.shape)"
   ]
  },
  {
   "cell_type": "markdown",
   "id": "65d81888-cfcb-45ea-9f6b-69ec9c46d886",
   "metadata": {},
   "source": [
    "<div class=\"alert alert-info\" role=\"alert\" \n",
    "     style=\"font-size: 1.5em; font-weight: bold; padding: 15px; margin: 10px 0; text-align: center; background-color: #d9edf7; border-color: #bce8f1; color: #31708f; border-radius: 8px;\">\n",
    "    \n",
    "    Importing our saved XGBoost model\n",
    "<div>"
   ]
  },
  {
   "cell_type": "code",
   "execution_count": null,
   "id": "5f0f48f3-8e9c-42c4-b6c8-e97114afce88",
   "metadata": {},
   "outputs": [],
   "source": [
    "sst_model = xgb.XGBRegressor()              # Create new XGBoost regressor\n",
    "sst_model.load_model(\"xgb_sst_model1.json\")  # Load the model saved to disk"
   ]
  },
  {
   "cell_type": "code",
   "execution_count": null,
   "id": "17e77d13-bc87-4994-976c-ece6c6252026",
   "metadata": {},
   "outputs": [],
   "source": [
    "# Saved XGBoost model: predict 'new' SST\n",
    "sst_pred = sst_model.predict(X_new)\n",
    "\n",
    "# Evaluate model performance on new data:\n",
    "new_r2 = r2_score(y_new, sst_pred)\n",
    "new_rmse = np.sqrt(mean_squared_error(y_new, sst_pred))\n",
    "\n",
    "print(\"New R²:   {:.2f}\".format(new_r2))\n",
    "print(\"New RMSE: {:.2f}\".format(new_rmse))"
   ]
  },
  {
   "cell_type": "code",
   "execution_count": null,
   "id": "3818be2b-429b-4605-b342-be4ab55a128e",
   "metadata": {},
   "outputs": [],
   "source": [
    "# Create figure\n",
    "fig1, ax = plt.subplots(1, 1, figsize=(15, 5))\n",
    "\n",
    "# Plot True and Predicted SSTs\n",
    "ax.plot(new_df['Date'], new_df['SST'], linestyle = '-', c = 'blue', linewidth = 1.0, label = 'True SSTs')\n",
    "ax.plot(new_df['Date'], sst_pred,linestyle = '-.', c = 'orangered', linewidth = 1.5, label = 'Predicted')\n",
    "\n",
    "# Formatting\n",
    "ax.grid(True, color = 'silver', linestyle = ':', linewidth = 0.5)\n",
    "ax.set_xlim([np.nanmin(new_df['Date']), np.nanmax(new_df['Date'])])\n",
    "ax.set_ylabel('SST °C', fontsize = 10, weight = 'bold')\n",
    "ax.legend();\n",
    "\n",
    "# Set the x-axis major locator to every 3 months\n",
    "ax.xaxis.set_major_locator(mdates.MonthLocator(interval = 1))\n",
    "# Format the x-axis ticks as 'mm-yy'\n",
    "ax.xaxis.set_major_formatter(mdates.DateFormatter('%m-%y'))\n",
    "# Rotate tick labels for better readability\n",
    "plt.setp(ax.get_xticklabels(), rotation = 40, ha = 'center')\n",
    "\n",
    "plt.show()"
   ]
  },
  {
   "cell_type": "markdown",
   "id": "6135bba0-649c-4c6f-a938-98bc3f8361fb",
   "metadata": {},
   "source": [
    "<div class=\"alert alert-info\" role=\"alert\" \n",
    "     style=\"font-size: 1.1em; padding: 15px; margin: 10px 0; text-align: center; background-color: #d9edf7; border-color: #bce8f1; color: #31708f; border-radius: 8px;\">\n",
    "\n",
    "    \n",
    "    Well that's pretty disappointing. It looks like our sst model is not capturing the seasonal cycle very well. \n",
    "    To be fair though, we didn't train the model on anything date related. Back to the training wheels for XGBoost!\n",
    "    \n",
    "    \n",
    "<div>"
   ]
  },
  {
   "cell_type": "code",
   "execution_count": null,
   "id": "1c707265-ca02-4306-9261-b2d82ff96cf3",
   "metadata": {},
   "outputs": [],
   "source": []
  }
 ],
 "metadata": {
  "kernelspec": {
   "display_name": "Python 3 (ipykernel)",
   "language": "python",
   "name": "python3"
  },
  "language_info": {
   "codemirror_mode": {
    "name": "ipython",
    "version": 3
   },
   "file_extension": ".py",
   "mimetype": "text/x-python",
   "name": "python",
   "nbconvert_exporter": "python",
   "pygments_lexer": "ipython3",
   "version": "3.11.8"
  }
 },
 "nbformat": 4,
 "nbformat_minor": 5
}
