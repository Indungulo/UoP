{
 "cells": [
  {
   "cell_type": "raw",
   "id": "dca23171-0e41-41ca-a2d3-3def8cb2cd66",
   "metadata": {},
   "source": [
    "Authors: L. Biermann (UoP)\n",
    "Credits: This code was originally developed for the MaRS Modules.\n",
    "License: This code is offered as free-to-use in the public domain, with no warranty.\n",
    "Date_V2: 25/02/2025"
   ]
  },
  {
   "cell_type": "markdown",
   "id": "a0ccb9eb-2368-460a-9c90-cd738bbfc23c",
   "metadata": {},
   "source": [
    "# Shallow Machine Learning Models: Linear Regression"
   ]
  },
  {
   "cell_type": "markdown",
   "id": "a93a6f4a-f594-458f-8180-60f04700a6bf",
   "metadata": {},
   "source": [
    "<div class=\"alert alert-info\" role=\"alert\" \n",
    "     style=\"font-size: 1em; padding: 10px; margin: 10px 0; text-align: center;\">\n",
    "    \n",
    "    Linear regression is a method that models the relationship between two variables using a straight line (y = mx + b). \n",
    "<div>"
   ]
  },
  {
   "cell_type": "markdown",
   "id": "a395d4ad-9eff-4dba-9ac7-c07b9dc4d6a8",
   "metadata": {},
   "source": [
    "### Import Libraries including from `sklearn` for shallow ML"
   ]
  },
  {
   "cell_type": "code",
   "execution_count": null,
   "id": "91ff73e0-8237-4087-81ba-8e4e3bb4e5c0",
   "metadata": {},
   "outputs": [],
   "source": [
    "# Data Wrangling\n",
    "import pandas as pd\n",
    "import numpy as np\n",
    "\n",
    "# Machine Learn\n",
    "from sklearn.linear_model import LinearRegression\n",
    "from sklearn.model_selection import train_test_split\n",
    "from sklearn.metrics import mean_squared_error, r2_score\n",
    "from sklearn.model_selection import cross_val_score\n",
    "\n",
    "# Data Plotting\n",
    "import matplotlib.pyplot as plt\n",
    "\n",
    "#ignorewarnings\n",
    "import warnings\n",
    "warnings.filterwarnings(\"ignore\")"
   ]
  },
  {
   "cell_type": "markdown",
   "id": "db5c7afd-8af2-44ea-9afe-5c2861b63ecc",
   "metadata": {},
   "source": [
    "<div class=\"alert alert-info\" role=\"alert\" \n",
    "     style=\"font-size: 1.8em; font-weight: bold; padding: 15px; margin: 10px 0; text-align: center; background-color: #d9edf7; border-color: #bce8f1; color: #31708f; border-radius: 8px;\">\n",
    "    Data Preprocessing\n",
    "</div>"
   ]
  },
  {
   "cell_type": "markdown",
   "id": "2560a835-a995-4b9b-af90-8f954b37c4a9",
   "metadata": {},
   "source": [
    "### Option 1 to Load CSV files containing variables -- pandas' `read_csv function`"
   ]
  },
  {
   "cell_type": "code",
   "execution_count": null,
   "id": "546fa81a-211a-48ff-ba71-bc709239ac30",
   "metadata": {},
   "outputs": [],
   "source": [
    "# Data are imported in Dataframe format\n",
    "SSH = pd.read_csv(\"cmems_mod_glo_phy_my_0.083deg_P1D-m_SSH.csv\", comment='#') # tells pandas to ignore lines starting with '#'\n",
    "SST = pd.read_csv(\"cmems_mod_glo_phy_my_0.083deg_P1D-m_SST.csv\", comment='#')"
   ]
  },
  {
   "cell_type": "code",
   "execution_count": null,
   "id": "4f67e03a-dad7-41e3-9de3-6e5c17a3bf09",
   "metadata": {},
   "outputs": [],
   "source": [
    "# The UTC format that our dates (times) are currently in:\n",
    "SSH['dates'] = pd.to_datetime(SSH['time'], format='%Y-%m-%dT%H:%M:%S.%fZ', utc=True)\n",
    "\n",
    "# Step1: convert to a more friendly format, add 'dates' as new column \n",
    "SSH['dates'] = SSH['dates'].dt.strftime('%Y-%m-%d %H:%M')\n",
    "# Step2: Remove the times in this case as they contain no real information\n",
    "SSH['dates'] = pd.to_datetime(SSH['dates'])\n",
    "# Step3: Drop the now unnecessary 'time' column\n",
    "SSH = SSH.drop(columns=['time'])\n",
    "\n",
    "# Re-order your columns so date is still first\n",
    "SSH = SSH[['dates','zos']]\n",
    "# Display\n",
    "# print(SSH.head(2))"
   ]
  },
  {
   "cell_type": "code",
   "execution_count": null,
   "id": "4f50eacc-7968-49b8-869a-b5c0c113f1a8",
   "metadata": {},
   "outputs": [],
   "source": [
    "# We can now combine these different vars to make a new df\n",
    "df = pd.DataFrame({'Date':SSH['dates'], 'SSH':SSH['zos'], 'SST':SST['thetao']})\n",
    "print(df.head(5))"
   ]
  },
  {
   "cell_type": "markdown",
   "id": "0bee1a7b-6f4b-4688-856e-d95cdd0b726a",
   "metadata": {},
   "source": [
    "### Set the `predictor` and `target` variables (X, y)"
   ]
  },
  {
   "cell_type": "code",
   "execution_count": null,
   "id": "786007cb-4a98-495d-a374-2d1b0e3f9a31",
   "metadata": {},
   "outputs": [],
   "source": [
    "X = df['SSH'].values # Independent var\n",
    "X = X.reshape(-1, 1) # Reshape: (n, 1)\n",
    "y = df['SST'].values # Target variable\n",
    "\n",
    "# Check reshape worked:\n",
    "print(X.shape, y.shape)"
   ]
  },
  {
   "cell_type": "markdown",
   "id": "e187fb4b-a2fb-4827-8fac-c34622cc5ae0",
   "metadata": {},
   "source": [
    "### Split the data into two sets: `training` (80%) and `test` (20%)"
   ]
  },
  {
   "cell_type": "code",
   "execution_count": null,
   "id": "d5aefaa1-1b4d-49cc-a752-37f418e85828",
   "metadata": {},
   "outputs": [],
   "source": [
    "# Split your dataset so 20% is set aside for testing (0.2) \n",
    "# Set random_state to ensure yr train-test split is always the same (for reproducibility)\n",
    "X_train, X_test, y_train, y_test = train_test_split(X, y, test_size=0.2, random_state=42)\n",
    "\n",
    "# Check the 80% training: 20% testing split\n",
    "print(\"Trainin set size:\", X_train.shape[0])\n",
    "print(\"Testing set size:\",  X_test.shape[0])"
   ]
  },
  {
   "cell_type": "markdown",
   "id": "5fc69d9b-25f1-46a0-85aa-7d8efee2643a",
   "metadata": {},
   "source": [
    "<div class=\"alert alert-info\" role=\"alert\" \n",
    "     style=\"font-size: 1.8em; font-weight: bold; padding: 15px; margin: 10px 0; text-align: center; background-color: #d9edf7; border-color: #bce8f1; color: #31708f; border-radius: 8px;\">\n",
    "    \n",
    "    Linear Regression Model\n",
    "<div>"
   ]
  },
  {
   "cell_type": "raw",
   "id": "c3b6dbf9-69f5-48a8-95d7-0ccec0103ff9",
   "metadata": {},
   "source": [
    "✔ The model learns from X and y (training datasets).\n",
    "✔ It finds the best-fit regression line using OLS (Ordinary Least Squares).\n",
    "✔ It uses that line to predict SST (y_pred) for X_train."
   ]
  },
  {
   "cell_type": "code",
   "execution_count": null,
   "id": "b3f90075-4123-4843-98c2-bb8103de40a3",
   "metadata": {},
   "outputs": [],
   "source": [
    "# Fit LinearRegression (lin_reg) model on training data\n",
    "lin_reg = LinearRegression()\n",
    "lin_reg.fit(X_train,y_train)\n",
    "\n",
    "# Predict SST for train and test sets\n",
    "y_train_pred= lin_reg.predict(X_train)\n",
    "y_test_pred = lin_reg.predict(X_test )\n",
    "\n",
    "# Print slope & intercept from linear regression (lin_reg) model\n",
    "print(f\"y = {lin_reg.coef_[0]:.2f}x + {lin_reg.intercept_:.2f}\")"
   ]
  },
  {
   "cell_type": "markdown",
   "id": "44b31dd0-a46c-44eb-a169-05c33cc76613",
   "metadata": {},
   "source": [
    "#### Assess the Predicted Regression Line"
   ]
  },
  {
   "cell_type": "code",
   "execution_count": null,
   "id": "efbf7683-843f-40da-97fd-55cf63005642",
   "metadata": {},
   "outputs": [],
   "source": [
    "# Create figure\n",
    "fig1, ax = plt.subplots(1, 1, figsize=(5, 4))\n",
    "\n",
    "# Plot training (80%) and test (20%) datasets of SST\n",
    "ax.scatter(X_train,y_train,marker='s', s=10, c='navy', label='Train_Data')\n",
    "ax.scatter(X_test, y_test, marker='*', s=10, c='gold', label='Test__Data')\n",
    "\n",
    "# Plot regression line in red (based on training fit)\n",
    "X_range = np.linspace(X.min(), X.max(), 100).reshape(-1, 1)\n",
    "y_range_pred = lin_reg.predict(X_range)\n",
    "ax.plot(X_range, y_range_pred, linestyle='-', c='red', linewidth=2)\n",
    "\n",
    "# Set axes limits\n",
    "ax.set_xlim([df['SSH'].min() - 0.1, df['SSH'].max() + 0.1])\n",
    "ax.set_ylim([df['SST'].min() - 1.0, df['SST'].max() + 1.0])\n",
    "\n",
    "# Label axes\n",
    "ax.set_xlabel('SSH')\n",
    "ax.set_ylabel('SST')\n",
    "ax.grid(True, color='silver', linestyle=':', linewidth=0.7)\n",
    "ax.legend()\n",
    "plt.show()"
   ]
  },
  {
   "cell_type": "markdown",
   "id": "05e04ae2-d25a-4dc5-9f74-8b88e466fea3",
   "metadata": {},
   "source": [
    "<div class=\"alert alert-info\" role=\"alert\" \n",
    "     style=\"font-size: 1.8em; font-weight: bold; padding: 15px; margin: 10px 0; text-align: center; background-color: #d9edf7; border-color: #bce8f1; color: #31708f; border-radius: 8px;\">\n",
    "    Evaluating Model Performance\n",
    "</div>"
   ]
  },
  {
   "cell_type": "markdown",
   "id": "0b5a9b1b-a97b-4794-8832-dfb9f6d3e2a3",
   "metadata": {},
   "source": [
    "### Metrics for Linear Regression Model: `R2` and `RMSE`"
   ]
  },
  {
   "cell_type": "code",
   "execution_count": null,
   "id": "e022b9d9-85e2-4c51-a90c-b799538cf8b5",
   "metadata": {},
   "outputs": [],
   "source": [
    "# Difference between true and predicted SST\n",
    "diff = (y_test_pred - y_test)\n",
    "\n",
    "# Create a new df with 'Modeled' vs 'Actual'\n",
    "lin_df = pd.DataFrame({\n",
    "    'Modeled': y_test_pred,\n",
    "    'Actual' : y_test,\n",
    "    'SST_diff': diff})\n",
    "\n",
    "# Reset index to avoid misalignment in plotting\n",
    "lin_df.reset_index(drop = True, inplace = True)\n",
    "# Show lin_df\n",
    "print(lin_df.head(3))"
   ]
  },
  {
   "cell_type": "code",
   "execution_count": null,
   "id": "2c3c6c37-b951-43ef-be20-98d5c5a27d95",
   "metadata": {},
   "outputs": [],
   "source": [
    "# Compute R² and RMSE for Lin_Regress\n",
    "r2  = r2_score(y_test, y_test_pred)\n",
    "rmse= mean_squared_error(y_test, y_test_pred, squared=False)\n",
    "\n",
    "# Print output\n",
    "print(f\"Linear Regression R²:   {r2:.2f}\")\n",
    "print(f\"Linear Regression RMSE: {rmse:.2f}\")\n",
    "print(f\"Linear Regression Coef: {lin_reg.coef_[0]:.1f}\")"
   ]
  },
  {
   "cell_type": "raw",
   "id": "8612e5c3-e4b0-4e5f-ab88-da709d104f1c",
   "metadata": {},
   "source": [
    "The R² of ~0.28 is the proportion of the variance in the target variable (SST) that is explained by the predictor (SSH). I.e.: about 28% of the variability in SST is explained by SSH, leaving over 70% unexplained by this linear model. The RMSE of 1.62 means that, on average, the predicted SSTs deviate from the actual SST by 1.62 degrees Celcius."
   ]
  },
  {
   "cell_type": "markdown",
   "id": "f62488ae-8e1b-4f08-b8d5-e50296a78e75",
   "metadata": {},
   "source": [
    "### Visualising Model Performance: simple `line plot`"
   ]
  },
  {
   "cell_type": "code",
   "execution_count": null,
   "id": "70147c97-13f7-425c-9745-22040761d0b6",
   "metadata": {},
   "outputs": [],
   "source": [
    "# Plot findings using two subplots (2 rows, 1 column)\n",
    "fig2, ax = plt.subplots(nrows=2, ncols=1, figsize=(10, 5))\n",
    "\n",
    "# Plot Actual and Modeled SST values\n",
    "ax[0].plot(lin_df.index, lin_df['Modeled'],linestyle='-', c='orangered', linewidth=1.5, label='Modeled')\n",
    "ax[0].plot(lin_df.index, lin_df['Actual'], linestyle='-', c='royalblue', linewidth=1.2, label='Actual')\n",
    "# Set the x and y axes\n",
    "ax[0].set_xlim(0, 68)  \n",
    "ax[0].set_ylim(22,32)\n",
    "# Format your line plot\n",
    "ax[0].grid(True, color='silver', linestyle=':', linewidth=0.7)\n",
    "ax[0].set_ylabel('SST')\n",
    "ax[0].legend()\n",
    "\n",
    "# Plot SST_diff values\n",
    "ax[1].plot(lin_df.index, lin_df['SST_diff'], linestyle=':', linewidth = 0.1, marker = 's', markersize = 5, \n",
    "           color = 'lightseagreen', label = 'Model minus Actual')\n",
    "# Set the x and y axes\n",
    "ax[1].set_xlim(0, 68)  \n",
    "ax[1].set_ylim(-4, 4)\n",
    "# Add thick line at 0 to highlight differences in SST\n",
    "ax[1].axhline(y = 0, color = 'grey', linewidth = 1.0)\n",
    "# Format your line plot\n",
    "ax[1].grid(True, color='silver', linestyle=':', linewidth= 0.5)\n",
    "ax[1].set_ylabel('SST Diff')\n",
    "ax[1].legend()\n",
    "\n",
    "# Adjust layout to prevent overlapping elements\n",
    "plt.tight_layout()\n",
    "plt.show()"
   ]
  },
  {
   "cell_type": "markdown",
   "id": "c3c43545-4219-45e6-8304-8daedde02611",
   "metadata": {},
   "source": [
    "<div class=\"alert alert-info\" role=\"alert\" \n",
    "     style=\"font-size: 1em; padding: 10px; margin: 10px 0; text-align: center;\">\n",
    "    \n",
    "    At this early stage, we can't be sure if the fit between SST and SSH is so poor because SSH is the wrong predictor/ variable, or if it's due to non-linearity. Maybe both!\n",
    "<div>"
   ]
  },
  {
   "cell_type": "code",
   "execution_count": null,
   "id": "b8bfc606-3fa5-48a6-b7b9-d40edd57fe1f",
   "metadata": {},
   "outputs": [],
   "source": []
  }
 ],
 "metadata": {
  "kernelspec": {
   "display_name": "Python 3 (ipykernel)",
   "language": "python",
   "name": "python3"
  },
  "language_info": {
   "codemirror_mode": {
    "name": "ipython",
    "version": 3
   },
   "file_extension": ".py",
   "mimetype": "text/x-python",
   "name": "python",
   "nbconvert_exporter": "python",
   "pygments_lexer": "ipython3",
   "version": "3.11.8"
  }
 },
 "nbformat": 4,
 "nbformat_minor": 5
}
